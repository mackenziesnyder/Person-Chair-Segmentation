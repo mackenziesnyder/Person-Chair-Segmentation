{
  "cells": [
    {
      "cell_type": "markdown",
      "metadata": {
        "id": "Nwj4mFGVq_I-"
      },
      "source": [
        "Imports"
      ]
    },
    {
      "cell_type": "code",
      "execution_count": null,
      "metadata": {
        "colab": {
          "base_uri": "https://localhost:8080/"
        },
        "id": "oxCuIuf8qivO",
        "outputId": "881e1faf-98c6-467b-96f2-18546f30f70e"
      },
      "outputs": [
        {
          "name": "stdout",
          "output_type": "stream",
          "text": [
            "Mounted at /content/drive\n"
          ]
        }
      ],
      "source": [
        "import os\n",
        "import json\n",
        "from PIL import Image, ImageOps, ImageDraw"
      ]
    },
    {
      "cell_type": "markdown",
      "metadata": {
        "id": "UlWngdC5rBCT"
      },
      "source": [
        "Input and output location"
      ]
    },
    {
      "cell_type": "code",
      "execution_count": null,
      "metadata": {
        "id": "hoGSvOrVqvg9"
      },
      "outputs": [],
      "source": [
        "label_folder = './chair_person_dataset/masks'\n",
        "mask_folder = './chair_person_dataset/labels_as_images'\n",
        "os.makedirs(mask_folder, exist_ok=True)"
      ]
    },
    {
      "cell_type": "markdown",
      "metadata": {
        "id": "IxtVMepWrEdE"
      },
      "source": [
        "Convert json to image for masks"
      ]
    },
    {
      "cell_type": "code",
      "execution_count": 10,
      "metadata": {
        "colab": {
          "base_uri": "https://localhost:8080/"
        },
        "id": "uIjmyXG3qWwd",
        "outputId": "e6ac6815-3535-4041-909d-a3bda0be874c"
      },
      "outputs": [
        {
          "name": "stdout",
          "output_type": "stream",
          "text": [
            "labelfile:  sub-001.json\n",
            "image width: 3024, image height: 4032\n",
            "Saved image for sub-001.json at /content/drive/MyDrive/chair_person_dataset/labels_as_images/sub-001.png\n",
            "labelfile:  sub-002.json\n",
            "image width: 3024, image height: 4032\n",
            "Saved image for sub-002.json at /content/drive/MyDrive/chair_person_dataset/labels_as_images/sub-002.png\n",
            "labelfile:  sub-003.json\n",
            "image width: 3024, image height: 4032\n",
            "Saved image for sub-003.json at /content/drive/MyDrive/chair_person_dataset/labels_as_images/sub-003.png\n",
            "labelfile:  sub-004.json\n",
            "image width: 3024, image height: 4032\n",
            "Saved image for sub-004.json at /content/drive/MyDrive/chair_person_dataset/labels_as_images/sub-004.png\n",
            "labelfile:  sub-005.json\n",
            "image width: 4284, image height: 5712\n",
            "Saved image for sub-005.json at /content/drive/MyDrive/chair_person_dataset/labels_as_images/sub-005.png\n",
            "labelfile:  sub-006.json\n",
            "image width: 4284, image height: 5712\n",
            "Saved image for sub-006.json at /content/drive/MyDrive/chair_person_dataset/labels_as_images/sub-006.png\n",
            "labelfile:  sub-007.json\n",
            "image width: 4284, image height: 5712\n",
            "Saved image for sub-007.json at /content/drive/MyDrive/chair_person_dataset/labels_as_images/sub-007.png\n",
            "labelfile:  sub-008.json\n",
            "image width: 4284, image height: 5712\n",
            "Saved image for sub-008.json at /content/drive/MyDrive/chair_person_dataset/labels_as_images/sub-008.png\n"
          ]
        }
      ],
      "source": [
        "for labelfile in os.listdir(label_folder):\n",
        "  print(\"labelfile: \", labelfile)\n",
        "  label_file_path = os.path.join(label_folder, labelfile)\n",
        "\n",
        "  with open(label_file_path, 'r') as f:\n",
        "      data = json.load(f)\n",
        "\n",
        "      width = data['imageWidth']\n",
        "      height = data['imageHeight']\n",
        "      print(f\"image width: {width}, image height: {height}\")\n",
        "\n",
        "      mask = Image.new('L', (width, height), color=0)\n",
        "      draw = ImageDraw.Draw(mask)\n",
        "\n",
        "      for shape in data['shapes']:\n",
        "          points = [(point[0], point[1]) for point in shape['points']]\n",
        "          draw.polygon(points, outline=255, fill=255)\n",
        "\n",
        "      output_mask_path = os.path.join(mask_folder, f'{labelfile.replace(\".json\", \".png\")}')\n",
        "      mask.save(output_mask_path)\n",
        "      print(f\"Saved image for {labelfile} at {output_mask_path}\")"
      ]
    }
  ],
  "metadata": {
    "colab": {
      "provenance": []
    },
    "kernelspec": {
      "display_name": "Python 3",
      "name": "python3"
    },
    "language_info": {
      "name": "python"
    }
  },
  "nbformat": 4,
  "nbformat_minor": 0
}
